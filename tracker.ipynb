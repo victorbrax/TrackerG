{
 "cells": [
  {
   "cell_type": "code",
   "execution_count": 11,
   "id": "82b7901c",
   "metadata": {},
   "outputs": [],
   "source": [
    "# Important notes to maintenance:\n",
    "\n",
    "# python -m venv venv\n",
    "# .\\venv\\Scripts\\Activate.ps1\n",
    "# pip3 install pandas pynput openpyxl Jinja2 win10toast tk\n",
    "\n",
    "# pd.set_option('display.max_columns', None)\n",
    "\n",
    "# pyinstaller -F --icon=target.ico tracker.pyw"
   ]
  },
  {
   "cell_type": "markdown",
   "id": "cd4f8edc",
   "metadata": {},
   "source": [
    "# Imports"
   ]
  },
  {
   "cell_type": "code",
   "execution_count": 12,
   "id": "6b730274",
   "metadata": {},
   "outputs": [],
   "source": [
    "import os\n",
    "import pandas as pd\n",
    "import openpyxl\n",
    "from openpyxl.styles import PatternFill, Font, colors\n",
    "from openpyxl.utils import get_column_letter\n",
    "from tkinter import Tk, filedialog\n",
    "from pynput.keyboard import Key, Controller\n",
    "from win10toast import ToastNotifier\n",
    "from operator import index\n"
   ]
  },
  {
   "cell_type": "markdown",
   "id": "6f877a1c",
   "metadata": {},
   "source": [
    "# Win + D"
   ]
  },
  {
   "cell_type": "code",
   "execution_count": 13,
   "id": "479a3d7a",
   "metadata": {},
   "outputs": [],
   "source": [
    "# It's necessary because the file dialog window appears in the background\n",
    "keyb = Controller()\n",
    "keyb.press(Key.cmd)\n",
    "keyb.press('d')\n",
    "keyb.release(Key.cmd)\n",
    "keyb.release('d')"
   ]
  },
  {
   "cell_type": "markdown",
   "id": "2fe48587",
   "metadata": {},
   "source": [
    "# Tkinter Process"
   ]
  },
  {
   "cell_type": "code",
   "execution_count": 14,
   "id": "1ca60e91",
   "metadata": {},
   "outputs": [
    {
     "data": {
      "text/plain": [
       "''"
      ]
     },
     "execution_count": 14,
     "metadata": {},
     "output_type": "execute_result"
    }
   ],
   "source": [
    "root = Tk()\n",
    "root.withdraw()"
   ]
  },
  {
   "cell_type": "markdown",
   "id": "8ecd106c",
   "metadata": {},
   "source": [
    "# Initialize Notification"
   ]
  },
  {
   "cell_type": "code",
   "execution_count": 15,
   "id": "e65f4c4b",
   "metadata": {},
   "outputs": [],
   "source": [
    "toaster = ToastNotifier()"
   ]
  },
  {
   "cell_type": "markdown",
   "id": "374d00ba",
   "metadata": {},
   "source": [
    "# File Paths"
   ]
  },
  {
   "cell_type": "code",
   "execution_count": 16,
   "id": "fab9f806",
   "metadata": {},
   "outputs": [],
   "source": [
    "file_path1 = filedialog.askopenfilename(title='Select the XLSX sheet', initialdir='/Desktop',\n",
    "                                    filetypes=((\"XLSX files .xlsx\", \"*.xlsx\"), \n",
    "                                                (\"All files\", \"*.*\")))\n",
    "\n",
    "file_path2 = filedialog.askopenfilename(title='Select the CSV sheet', initialdir='/Desktop',\n",
    "                                    filetypes=((\"CSV files .csv\", \"*.csv\"), \n",
    "                                                (\"All filess\", \"*.*\")))\n",
    "\n",
    "file_path3 = filedialog.askdirectory(title='Select the save path', initialdir='/Desktop')\n",
    "\n",
    "file_path3 = file_path3 + '/Tracker Ninecon.xlsx'"
   ]
  },
  {
   "cell_type": "markdown",
   "id": "0244330a",
   "metadata": {},
   "source": [
    "# Panda Workers"
   ]
  },
  {
   "cell_type": "code",
   "execution_count": 17,
   "id": "fc9a3662",
   "metadata": {},
   "outputs": [],
   "source": [
    "# Source Readers\n",
    "df1 = pd.read_excel(file_path1)\n",
    "df2 = pd.read_csv(file_path2, encoding='UTF-16 LE', sep='\t')"
   ]
  },
  {
   "cell_type": "code",
   "execution_count": 18,
   "id": "d35ca8d1",
   "metadata": {},
   "outputs": [],
   "source": [
    "# Old WHD files restore\n",
    "backup = pd.ExcelFile(file_path1)\n",
    "dfbckp1 = pd.read_excel(backup, 'Atuais')\n",
    "dfbckp2 = pd.read_excel(backup, 'Fechados')"
   ]
  },
  {
   "cell_type": "code",
   "execution_count": 19,
   "id": "eb4f41f9",
   "metadata": {},
   "outputs": [],
   "source": [
    "# Junk drop 1\n",
    "df1.drop(['Data de Criação WHD', 'Descrição', 'Comentários'], axis=1, inplace=True) \n",
    "df2.drop(['Status', 'Priority', 'Alert Level', 'Tech', 'Location', \n",
    "'Request Type', 'Subject', 'Client', 'Updated', 'Unnamed: 13'], axis = 1, inplace = True)"
   ]
  },
  {
   "cell_type": "code",
   "execution_count": 20,
   "id": "c895928a",
   "metadata": {},
   "outputs": [],
   "source": [
    "# King merge\n",
    "df3 = df1.merge(df2, left_on='Ticket WHD', right_on='No.', how='left')"
   ]
  },
  {
   "cell_type": "code",
   "execution_count": 21,
   "id": "9504046f",
   "metadata": {},
   "outputs": [],
   "source": [
    "# Junk drop 2\n",
    "df3.drop(['No.'], axis = 1, inplace = True)"
   ]
  },
  {
   "cell_type": "code",
   "execution_count": 22,
   "id": "42044b13",
   "metadata": {},
   "outputs": [],
   "source": [
    "# New file sobreposition rename\n",
    "df3.rename(columns={'Notes': 'Comentários', 'Date': 'Data de Criação WHD', \n",
    "'Request Detail': 'Descrição'}, inplace=True)"
   ]
  },
  {
   "cell_type": "code",
   "execution_count": 23,
   "id": "c8f434a2",
   "metadata": {},
   "outputs": [],
   "source": [
    "# New file ordinate\n",
    "df3 = df3 [['Ticket 4BIZ', 'Ticket WHD', 'Data de Criação 4Biz', 'Data de Criação WHD',\n",
    "'Titulo', 'Descrição', 'Modulo', 'Priorização', 'Horas Aptdas', 'Impacto',\n",
    "'Urgencia', 'Tipo', 'Solicitante', 'Consultor', 'Status', 'Ticket Fornecedor',\n",
    "'Vencimento SLA', 'Ultima Atualização', 'Data Resolvido', 'Comentários']]"
   ]
  },
  {
   "cell_type": "code",
   "execution_count": 24,
   "id": "54a16fd8",
   "metadata": {},
   "outputs": [],
   "source": [
    "# Date format functions\n",
    "df3['Data de Criação WHD'] = pd.to_datetime(df3['Data de Criação WHD']).dt.strftime('%d/%m/%Y')\n",
    "df3['Data de Criação 4Biz'] = pd.to_datetime(df3['Data de Criação 4Biz']).dt.strftime('%d/%m/%Y')\n",
    "df3['Vencimento SLA'] = pd.to_datetime(df3['Vencimento SLA']).dt.strftime('%d/%m/%Y')"
   ]
  },
  {
   "cell_type": "code",
   "execution_count": 25,
   "metadata": {},
   "outputs": [],
   "source": [
    "# Condition save (Messenger)\n",
    "df3.to_excel(file_path3 , index=False)"
   ]
  },
  {
   "cell_type": "markdown",
   "id": "e0015514",
   "metadata": {},
   "source": [
    "# Conditional Format"
   ]
  },
  {
   "cell_type": "code",
   "execution_count": 26,
   "id": "deab8692",
   "metadata": {},
   "outputs": [],
   "source": [
    "# Yellow rows function\n",
    "def row_style(row):\n",
    "    if row['Priorização'] == 'Sim':\n",
    "            return pd.Series('background-color: yellow', row.index) \n",
    "    elif row['Impacto'] == 'Alto':\n",
    "            return pd.Series('background-color: yellow', row.index) \n",
    "    else:\n",
    "        return pd.Series('', row.index)\n",
    "\n",
    "df3 = df3.style.apply(row_style, axis=1)"
   ]
  },
  {
   "cell_type": "markdown",
   "id": "55eb2488",
   "metadata": {},
   "source": [
    "# Intern sheets room"
   ]
  },
  {
   "cell_type": "code",
   "execution_count": 27,
   "id": "131217a3",
   "metadata": {},
   "outputs": [],
   "source": [
    "# Intern sheets ordinate\n",
    "writer = pd.ExcelWriter(file_path3, engine='openpyxl')\n",
    "df3.to_excel(writer, sheet_name='BY TRACKER GENERATOR 2.2', index=False)\n",
    "dfbckp1.to_excel(writer, sheet_name='Atuais', index=False)\n",
    "dfbckp2.to_excel(writer, sheet_name='Fechados', index=False)"
   ]
  },
  {
   "cell_type": "code",
   "execution_count": 28,
   "id": "3e55dbe6",
   "metadata": {},
   "outputs": [],
   "source": [
    "# Sheets ordinate save (Organizer)\n",
    "writer.save()\n",
    "\n",
    "# Closers\n",
    "writer.close()\n",
    "backup.close()"
   ]
  },
  {
   "cell_type": "markdown",
   "id": "056c41e8",
   "metadata": {},
   "source": [
    "# Header format"
   ]
  },
  {
   "cell_type": "code",
   "execution_count": 29,
   "id": "0822a010",
   "metadata": {},
   "outputs": [],
   "source": [
    "# Reader\n",
    "wb = openpyxl.load_workbook(file_path3) \n",
    "ws = wb['BY TRACKER GENERATOR 2.2']"
   ]
  },
  {
   "cell_type": "code",
   "execution_count": 30,
   "id": "98301fdb",
   "metadata": {},
   "outputs": [],
   "source": [
    "fill_cell = PatternFill(patternType='solid', fgColor='104367')\n",
    "\n",
    "cell = ['A1', 'B1', 'C1', 'D1', 'E1', 'F1', 'G1', 'H1', 'I1', 'J1', 'K1', 'L1', 'M1', 'N1', 'O1', 'P1', 'Q1', 'R1', 'S1', 'T1']\n",
    "for i in cell:\n",
    "    ws[i].fill = fill_cell\n",
    "    ws[i].font = Font(bold=True, color='ffffff', size='12')\n",
    "    \n",
    "for idx, col in enumerate(ws.columns, 1):\n",
    "    ws.column_dimensions[get_column_letter(idx)].auto_size = True"
   ]
  },
  {
   "cell_type": "code",
   "execution_count": 31,
   "id": "c5f209b0",
   "metadata": {},
   "outputs": [],
   "source": [
    "# Final save!\n",
    "wb.save(file_path3)\n",
    "\n",
    "# Closers\n",
    "wb.close()"
   ]
  },
  {
   "cell_type": "markdown",
   "id": "cd4d2d98",
   "metadata": {},
   "source": [
    "# Remove old files"
   ]
  },
  {
   "cell_type": "code",
   "execution_count": 32,
   "id": "37031ae9",
   "metadata": {},
   "outputs": [],
   "source": [
    "os.remove(file_path1)\n",
    "os.remove(file_path2)"
   ]
  },
  {
   "cell_type": "markdown",
   "id": "5593ca86",
   "metadata": {},
   "source": [
    "# Sucess notification"
   ]
  },
  {
   "cell_type": "code",
   "execution_count": 33,
   "id": "7d739d94",
   "metadata": {},
   "outputs": [
    {
     "data": {
      "text/plain": [
       "True"
      ]
     },
     "execution_count": 33,
     "metadata": {},
     "output_type": "execute_result"
    }
   ],
   "source": [
    "toaster.show_toast(\"We won!\", \"Tracker generated sucessfully\", \n",
    "icon_path=r\"C:\\Users\\joaog\\OneDrive\\Programação\\me\\Projetos\\Python\\Tracker\\TrackerG 2.1\\check.ico\", \n",
    "duration=30, threaded=True)"
   ]
  }
 ],
 "metadata": {
  "kernelspec": {
   "display_name": "Python (myenv)",
   "language": "python",
   "name": "myenv"
  },
  "language_info": {
   "codemirror_mode": {
    "name": "ipython",
    "version": 3
   },
   "file_extension": ".py",
   "mimetype": "text/x-python",
   "name": "python",
   "nbconvert_exporter": "python",
   "pygments_lexer": "ipython3",
   "version": "3.10.6"
  }
 },
 "nbformat": 4,
 "nbformat_minor": 5
}
